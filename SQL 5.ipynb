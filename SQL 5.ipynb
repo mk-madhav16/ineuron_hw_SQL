{
 "cells": [
  {
   "cell_type": "code",
   "execution_count": null,
   "id": "5ee7c92b",
   "metadata": {},
   "outputs": [],
   "source": [
    "#Q-1. Write an SQL query to print details of workers excluding first names, “Vipul” and “Satish” from Worker table."
   ]
  },
  {
   "cell_type": "code",
   "execution_count": null,
   "id": "15fa09ea",
   "metadata": {},
   "outputs": [],
   "source": [
    "#Ans_1\n",
    "SELECT ALL FROM Worker WHERE FIRST_NAME NOT IN ('Vipul','Satish')"
   ]
  },
  {
   "cell_type": "code",
   "execution_count": null,
   "id": "59d466b7",
   "metadata": {},
   "outputs": [],
   "source": [
    "#Q-2. Write an SQL query to print details of the Workers whose FIRST_NAME ends with ‘h’ and contains six alphabets."
   ]
  },
  {
   "cell_type": "code",
   "execution_count": null,
   "id": "14d8ce79",
   "metadata": {},
   "outputs": [],
   "source": [
    "#Ans_2\n",
    "SELECT * FROM Worker WHERE FIRST_NAME LIKE '     h'"
   ]
  },
  {
   "cell_type": "code",
   "execution_count": null,
   "id": "caf90f35",
   "metadata": {},
   "outputs": [],
   "source": [
    "#Q-3. Write a query to validate Email of Employee."
   ]
  },
  {
   "cell_type": "code",
   "execution_count": null,
   "id": "ccf41472",
   "metadata": {},
   "outputs": [],
   "source": [
    "#Ans_3\n",
    "select * from Worker where Email like '__%@ineuron.in'"
   ]
  },
  {
   "cell_type": "code",
   "execution_count": null,
   "id": "48a0eb76",
   "metadata": {},
   "outputs": [],
   "source": []
  }
 ],
 "metadata": {
  "kernelspec": {
   "display_name": "Python 3",
   "language": "python",
   "name": "python3"
  },
  "language_info": {
   "codemirror_mode": {
    "name": "ipython",
    "version": 3
   },
   "file_extension": ".py",
   "mimetype": "text/x-python",
   "name": "python",
   "nbconvert_exporter": "python",
   "pygments_lexer": "ipython3",
   "version": "3.8.8"
  }
 },
 "nbformat": 4,
 "nbformat_minor": 5
}
