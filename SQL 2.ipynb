{
 "cells": [
  {
   "cell_type": "code",
   "execution_count": null,
   "id": "42b34c78",
   "metadata": {},
   "outputs": [],
   "source": [
    "#Q-1. Write an SQL query to print the first three characters of FIRST_NAME from Worker table."
   ]
  },
  {
   "cell_type": "code",
   "execution_count": null,
   "id": "d2598f53",
   "metadata": {},
   "outputs": [],
   "source": [
    "#Ans_1\n",
    "SELECT SUBSTRING(FIRST_NAME,1,3) FROM Worker"
   ]
  },
  {
   "cell_type": "code",
   "execution_count": null,
   "id": "f9631b3f",
   "metadata": {},
   "outputs": [],
   "source": [
    "#Q-2. Write an SQL query to find the position of the alphabet (‘a’) in the first name column ‘Amitabh’ from Worker table."
   ]
  },
  {
   "cell_type": "code",
   "execution_count": null,
   "id": "ab96f227",
   "metadata": {},
   "outputs": [],
   "source": [
    "#Ans_2\n",
    "SELECT POSITION('a' IN FIRST_NAME) FROM Worker WHERE FIRST_NAME = 'Amitabh'"
   ]
  },
  {
   "cell_type": "code",
   "execution_count": null,
   "id": "0914f0e3",
   "metadata": {},
   "outputs": [],
   "source": [
    "#Q-3. Write an SQL query to print the name of employees having the highest salary in each department."
   ]
  },
  {
   "cell_type": "code",
   "execution_count": null,
   "id": "3f2827d6",
   "metadata": {},
   "outputs": [],
   "source": [
    "#Ans_3\n",
    "SELECT name,salary,department FROM Worker w WHERE salary=(SELECT MAX(salary) FROM Worker WHERE department = w.department)"
   ]
  },
  {
   "cell_type": "code",
   "execution_count": null,
   "id": "0943f6e9",
   "metadata": {},
   "outputs": [],
   "source": []
  }
 ],
 "metadata": {
  "kernelspec": {
   "display_name": "Python 3",
   "language": "python",
   "name": "python3"
  },
  "language_info": {
   "codemirror_mode": {
    "name": "ipython",
    "version": 3
   },
   "file_extension": ".py",
   "mimetype": "text/x-python",
   "name": "python",
   "nbconvert_exporter": "python",
   "pygments_lexer": "ipython3",
   "version": "3.8.8"
  }
 },
 "nbformat": 4,
 "nbformat_minor": 5
}
