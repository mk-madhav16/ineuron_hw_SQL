{
 "cells": [
  {
   "cell_type": "code",
   "execution_count": null,
   "id": "ed94eb89",
   "metadata": {},
   "outputs": [],
   "source": [
    "#Q-1. Write an SQL query to print details of the Workers who have joined in Feb’2014."
   ]
  },
  {
   "cell_type": "code",
   "execution_count": null,
   "id": "9a26ffb7",
   "metadata": {},
   "outputs": [],
   "source": [
    "#Ans_1\n",
    "SELECT * FROM Worker WHERE JOINING_DATE LIKE \"%2014-02%\""
   ]
  },
  {
   "cell_type": "code",
   "execution_count": null,
   "id": "c5af825e",
   "metadata": {},
   "outputs": [],
   "source": [
    "#Q-2. Write an SQL query to fetch duplicate records having matching data in some fields of a table."
   ]
  },
  {
   "cell_type": "code",
   "execution_count": null,
   "id": "7b8b9759",
   "metadata": {},
   "outputs": [],
   "source": [
    "#Ans_2\n",
    "SELECT column_name, COUNT(column_name) FROM Worker GROUP BY FEILD HAVING COUNT(column_name) > 1"
   ]
  },
  {
   "cell_type": "code",
   "execution_count": null,
   "id": "664a6a67",
   "metadata": {},
   "outputs": [],
   "source": [
    "#Q-3. How to remove duplicate rows from Employees table."
   ]
  },
  {
   "cell_type": "code",
   "execution_count": null,
   "id": "96809244",
   "metadata": {},
   "outputs": [],
   "source": [
    "#Ans_3\n",
    "DELETE FROM INEURON WHERE SN NOT IN (SELECT MAX(SN) FROM DETAILS GROUP BY STUDENT,COURSE)"
   ]
  },
  {
   "cell_type": "code",
   "execution_count": null,
   "id": "58a87a9c",
   "metadata": {},
   "outputs": [],
   "source": []
  }
 ],
 "metadata": {
  "kernelspec": {
   "display_name": "Python 3",
   "language": "python",
   "name": "python3"
  },
  "language_info": {
   "codemirror_mode": {
    "name": "ipython",
    "version": 3
   },
   "file_extension": ".py",
   "mimetype": "text/x-python",
   "name": "python",
   "nbconvert_exporter": "python",
   "pygments_lexer": "ipython3",
   "version": "3.8.8"
  }
 },
 "nbformat": 4,
 "nbformat_minor": 5
}
