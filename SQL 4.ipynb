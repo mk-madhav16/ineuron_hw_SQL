{
 "cells": [
  {
   "cell_type": "code",
   "execution_count": null,
   "id": "4b8cf24e",
   "metadata": {},
   "outputs": [],
   "source": [
    "#Q-1. Write an SQL query to print the FIRST_NAME from Worker table after replacing ‘a’ with ‘A’."
   ]
  },
  {
   "cell_type": "code",
   "execution_count": null,
   "id": "a9efc264",
   "metadata": {},
   "outputs": [],
   "source": [
    "#Ans_1\n",
    "SELECT REPLACE(FIRST_NAME,'a','A') FROM Wokrer"
   ]
  },
  {
   "cell_type": "code",
   "execution_count": null,
   "id": "c093b8f1",
   "metadata": {},
   "outputs": [],
   "source": [
    "#Q-2. Write an SQL query to print all Worker details from the Worker table order by FIRST_NAME Ascending and DEPARTMENT Descending."
   ]
  },
  {
   "cell_type": "code",
   "execution_count": null,
   "id": "20c19091",
   "metadata": {},
   "outputs": [],
   "source": [
    "#Ans_2\n",
    "SELECT * FROM Worker ORDER BY FIRST_NAME ASC, DEPARTMENT DESC"
   ]
  },
  {
   "cell_type": "code",
   "execution_count": null,
   "id": "314a9afc",
   "metadata": {},
   "outputs": [],
   "source": [
    "#Q-3. Write an SQL query to fetch the names of workers who earn the highest salary."
   ]
  },
  {
   "cell_type": "code",
   "execution_count": null,
   "id": "7bac96d8",
   "metadata": {},
   "outputs": [],
   "source": [
    "#Ans_3\n",
    "SELECT FIRST_NAME, LAST_NAME FROM Worker WHERE SALARY = (SELECT MAX(SALARY) FROM Worker)"
   ]
  },
  {
   "cell_type": "code",
   "execution_count": null,
   "id": "b2384d93",
   "metadata": {},
   "outputs": [],
   "source": []
  }
 ],
 "metadata": {
  "kernelspec": {
   "display_name": "Python 3",
   "language": "python",
   "name": "python3"
  },
  "language_info": {
   "codemirror_mode": {
    "name": "ipython",
    "version": 3
   },
   "file_extension": ".py",
   "mimetype": "text/x-python",
   "name": "python",
   "nbconvert_exporter": "python",
   "pygments_lexer": "ipython3",
   "version": "3.8.8"
  }
 },
 "nbformat": 4,
 "nbformat_minor": 5
}
