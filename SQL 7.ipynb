{
 "cells": [
  {
   "cell_type": "code",
   "execution_count": null,
   "id": "f315b131",
   "metadata": {},
   "outputs": [],
   "source": [
    "#Q-13. Write an SQL query to show only odd rows from a table."
   ]
  },
  {
   "cell_type": "code",
   "execution_count": null,
   "id": "f9c2c5d2",
   "metadata": {},
   "outputs": [],
   "source": [
    "#Ans_13\n",
    "ELECT * FROM INEURON Where MOD(STUDENT_ID,2) = 1"
   ]
  },
  {
   "cell_type": "code",
   "execution_count": null,
   "id": "adef68d5",
   "metadata": {},
   "outputs": [],
   "source": [
    "#Q-14. Write an SQL query to clone a new table from another table."
   ]
  },
  {
   "cell_type": "code",
   "execution_count": null,
   "id": "92915898",
   "metadata": {},
   "outputs": [],
   "source": [
    "#Ans_14\n",
    "INSERT INTO NEW_TABLE SELECT * FROM OLD_TABLE"
   ]
  },
  {
   "cell_type": "code",
   "execution_count": null,
   "id": "e8f26eaf",
   "metadata": {},
   "outputs": [],
   "source": []
  }
 ],
 "metadata": {
  "kernelspec": {
   "display_name": "Python 3",
   "language": "python",
   "name": "python3"
  },
  "language_info": {
   "codemirror_mode": {
    "name": "ipython",
    "version": 3
   },
   "file_extension": ".py",
   "mimetype": "text/x-python",
   "name": "python",
   "nbconvert_exporter": "python",
   "pygments_lexer": "ipython3",
   "version": "3.8.8"
  }
 },
 "nbformat": 4,
 "nbformat_minor": 5
}
