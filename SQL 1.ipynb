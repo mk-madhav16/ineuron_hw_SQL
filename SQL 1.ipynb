{
 "cells": [
  {
   "cell_type": "code",
   "execution_count": null,
   "id": "80e7c2da",
   "metadata": {},
   "outputs": [],
   "source": [
    "#Q-1. Q-1. Write an SQL query to fetch “FIRST_NAME” from Worker table using the alias name as<WORKER_NAME>."
   ]
  },
  {
   "cell_type": "code",
   "execution_count": null,
   "id": "eb849ad8",
   "metadata": {},
   "outputs": [],
   "source": [
    "#Ans_1\n",
    "SELECT FIRST_NAME AS WORKER_NAME FROM Worker "
   ]
  },
  {
   "cell_type": "code",
   "execution_count": null,
   "id": "c00e43dc",
   "metadata": {},
   "outputs": [],
   "source": [
    "#Q-2. Write an SQL query to fetch unique values of DEPARTMENT from Worker table."
   ]
  },
  {
   "cell_type": "code",
   "execution_count": null,
   "id": "4f6def30",
   "metadata": {},
   "outputs": [],
   "source": [
    "#Ans_2\n",
    "SELECT DISTINCT DEPARTMENT FROM Worker"
   ]
  },
  {
   "cell_type": "code",
   "execution_count": null,
   "id": "5620a9d0",
   "metadata": {},
   "outputs": [],
   "source": [
    "#Q-3. Write an SQL query to show the last 5 record from a table."
   ]
  },
  {
   "cell_type": "code",
   "execution_count": null,
   "id": "884ac348",
   "metadata": {},
   "outputs": [],
   "source": [
    "#Ans_3\n",
    "SELECT * from Worker ORDER by id DESC LIMIT 5"
   ]
  },
  {
   "cell_type": "code",
   "execution_count": null,
   "id": "6ec38bc8",
   "metadata": {},
   "outputs": [],
   "source": []
  }
 ],
 "metadata": {
  "kernelspec": {
   "display_name": "Python 3",
   "language": "python",
   "name": "python3"
  },
  "language_info": {
   "codemirror_mode": {
    "name": "ipython",
    "version": 3
   },
   "file_extension": ".py",
   "mimetype": "text/x-python",
   "name": "python",
   "nbconvert_exporter": "python",
   "pygments_lexer": "ipython3",
   "version": "3.8.8"
  }
 },
 "nbformat": 4,
 "nbformat_minor": 5
}
