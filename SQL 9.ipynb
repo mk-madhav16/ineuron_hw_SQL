{
 "cells": [
  {
   "cell_type": "code",
   "execution_count": null,
   "id": "47b95d6f",
   "metadata": {},
   "outputs": [],
   "source": [
    "#Q-17. Write an SQL query to show the top n (say 10) records of a table."
   ]
  },
  {
   "cell_type": "code",
   "execution_count": null,
   "id": "44d0a9a2",
   "metadata": {},
   "outputs": [],
   "source": [
    "#Ans_17\n",
    "SELECT ALL FROM INEURON LIMIT 10"
   ]
  },
  {
   "cell_type": "code",
   "execution_count": null,
   "id": "5fdf97b4",
   "metadata": {},
   "outputs": [],
   "source": [
    "#Q-18. Write an SQL query to determine the nth (say n=5) highest salary from a table."
   ]
  },
  {
   "cell_type": "code",
   "execution_count": null,
   "id": "9762805a",
   "metadata": {},
   "outputs": [],
   "source": [
    "#Ans_18\n",
    "SELECT DISTINCT(SALARY) FROM Worker ORDER BY DESC LIMIT 5"
   ]
  },
  {
   "cell_type": "code",
   "execution_count": null,
   "id": "21d4be8d",
   "metadata": {},
   "outputs": [],
   "source": []
  }
 ],
 "metadata": {
  "kernelspec": {
   "display_name": "Python 3",
   "language": "python",
   "name": "python3"
  },
  "language_info": {
   "codemirror_mode": {
    "name": "ipython",
    "version": 3
   },
   "file_extension": ".py",
   "mimetype": "text/x-python",
   "name": "python",
   "nbconvert_exporter": "python",
   "pygments_lexer": "ipython3",
   "version": "3.8.8"
  }
 },
 "nbformat": 4,
 "nbformat_minor": 5
}
