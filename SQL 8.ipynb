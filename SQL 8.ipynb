{
 "cells": [
  {
   "cell_type": "code",
   "execution_count": null,
   "id": "4f919c83",
   "metadata": {},
   "outputs": [],
   "source": [
    "#Q-15. Write an SQL query to fetch intersecting records of two tables."
   ]
  },
  {
   "cell_type": "code",
   "execution_count": null,
   "id": "9e21e070",
   "metadata": {},
   "outputs": [],
   "source": [
    "#Ans_15\n",
    "SELECT <UNIQUE_ID> FROM TABLE_A INTERSECT SELECT <UNIQUE_ID> FROM TABLE_B"
   ]
  },
  {
   "cell_type": "code",
   "execution_count": null,
   "id": "58cadfc9",
   "metadata": {},
   "outputs": [],
   "source": [
    "#Q-16. Write an SQL query to show records from one table that another table does not have."
   ]
  },
  {
   "cell_type": "code",
   "execution_count": null,
   "id": "d78177e1",
   "metadata": {},
   "outputs": [],
   "source": [
    "#Ans_16\n",
    "SELECT ALL FROM TABLE_A EXCEPT SELECT * FROM TABLE_B"
   ]
  },
  {
   "cell_type": "code",
   "execution_count": null,
   "id": "a73c816d",
   "metadata": {},
   "outputs": [],
   "source": []
  }
 ],
 "metadata": {
  "kernelspec": {
   "display_name": "Python 3",
   "language": "python",
   "name": "python3"
  },
  "language_info": {
   "codemirror_mode": {
    "name": "ipython",
    "version": 3
   },
   "file_extension": ".py",
   "mimetype": "text/x-python",
   "name": "python",
   "nbconvert_exporter": "python",
   "pygments_lexer": "ipython3",
   "version": "3.8.8"
  }
 },
 "nbformat": 4,
 "nbformat_minor": 5
}
