{
 "cells": [
  {
   "cell_type": "code",
   "execution_count": null,
   "id": "b40fc694",
   "metadata": {},
   "outputs": [],
   "source": [
    "#Q-19. Write an SQL query to determine the 5th highest salary without using TOP or limit method."
   ]
  },
  {
   "cell_type": "code",
   "execution_count": null,
   "id": "e0c72e85",
   "metadata": {},
   "outputs": [],
   "source": [
    "#Ans_19\n",
    "SELECT * FROM (SELECT ROW_NUMBER() OVER (ORDER BY salary DESC) AS R_NUM, first_name, salary FROM employee) as HEllO WHERE R_NUM=5"
   ]
  },
  {
   "cell_type": "code",
   "execution_count": null,
   "id": "ffca784a",
   "metadata": {},
   "outputs": [],
   "source": [
    "#Q-20. Write an SQL query to fetch the list of employees with the same salary."
   ]
  },
  {
   "cell_type": "code",
   "execution_count": null,
   "id": "17463e13",
   "metadata": {},
   "outputs": [],
   "source": [
    "#Ans_20\n",
    "SELECT * FROM employee WHERE(SALARY=SALARY)"
   ]
  }
 ],
 "metadata": {
  "kernelspec": {
   "display_name": "Python 3",
   "language": "python",
   "name": "python3"
  },
  "language_info": {
   "codemirror_mode": {
    "name": "ipython",
    "version": 3
   },
   "file_extension": ".py",
   "mimetype": "text/x-python",
   "name": "python",
   "nbconvert_exporter": "python",
   "pygments_lexer": "ipython3",
   "version": "3.8.8"
  }
 },
 "nbformat": 4,
 "nbformat_minor": 5
}
